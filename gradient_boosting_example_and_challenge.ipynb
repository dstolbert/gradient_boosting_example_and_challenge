{
 "cells": [
  {
   "cell_type": "code",
   "execution_count": 1,
   "metadata": {
    "run_control": {
     "frozen": false,
     "read_only": false
    }
   },
   "outputs": [],
   "source": [
    "import pandas as pd\n",
    "import numpy as np\n",
    "import scipy\n",
    "import matplotlib.pyplot as plt\n",
    "%matplotlib inline\n",
    "\n",
    "from sklearn import ensemble\n",
    "from sklearn import datasets\n",
    "from sklearn.utils import shuffle\n",
    "from sklearn.metrics import mean_squared_error\n",
    "from sklearn.model_selection import train_test_split"
   ]
  },
  {
   "cell_type": "markdown",
   "metadata": {},
   "source": [
    "### Gradient boost guided example\n",
    "\n",
    "Having walked through gradient boost by hand, now let's try it with SKlearn.  We'll still use the European Social Survey Data, but now with a categorical outcome: Whether or not someone lives with a partner."
   ]
  },
  {
   "cell_type": "code",
   "execution_count": 51,
   "metadata": {},
   "outputs": [],
   "source": [
    "df = pd.read_csv((\n",
    "    \"https://raw.githubusercontent.com/Thinkful-Ed/data-201-resources/\"\n",
    "    \"master/ESS_practice_data/ESSdata_Thinkful.csv\")).dropna()\n",
    "\n",
    "# Definine outcome and predictors.\n",
    "# Set our outcome to 0 and 1.\n",
    "y = df['partner'] - 1\n",
    "X = df.loc[:, ~df.columns.isin(['partner', 'cntry', 'idno'])]\n",
    "\n",
    "# Make the categorical variable 'country' into dummies.\n",
    "X = pd.concat([X, pd.get_dummies(df['cntry'])], axis=1)\n",
    "\n",
    "# Create training and test sets, split at 90%\n",
    "X_train, X_test, y_train, y_test = train_test_split(X,y,test_size = 0.1, random_state = 1)"
   ]
  },
  {
   "cell_type": "markdown",
   "metadata": {},
   "source": [
    "Since we're now working with a binary outcome, we've switched to a classifier.  Now our loss function can't be the residuals.  Our options are \"deviance\", or \"exponential\".  Deviance is used for logistic regression, and we'll try that here."
   ]
  },
  {
   "cell_type": "code",
   "execution_count": 3,
   "metadata": {},
   "outputs": [
    {
     "name": "stdout",
     "output_type": "stream",
     "text": [
      "Training set accuracy:\n",
      "Percent Type I errors: 0.046917621385706494\n",
      "Percent Type II errors: 0.17648663393344244\n",
      "\n",
      "Test set accuracy:\n",
      "Percent Type I errors: 0.05766871165644172\n",
      "Percent Type II errors: 0.17668711656441718\n"
     ]
    }
   ],
   "source": [
    "# We'll make 500 iterations, use 2-deep trees, and set our loss function.\n",
    "params = {'n_estimators': 500,\n",
    "          'max_depth': 2,\n",
    "          'loss': 'deviance'}\n",
    "\n",
    "# Initialize and fit the model.\n",
    "clf = ensemble.GradientBoostingClassifier(**params)\n",
    "clf.fit(X_train, y_train)\n",
    "\n",
    "predict_train = clf.predict(X_train)\n",
    "predict_test = clf.predict(X_test)\n",
    "\n",
    "# Accuracy tables.\n",
    "table_train = pd.crosstab(y_train, predict_train, margins=True)\n",
    "table_test = pd.crosstab(y_test, predict_test, margins=True)\n",
    "\n",
    "train_tI_errors = table_train.loc[0.0,1.0] / table_train.loc['All','All']\n",
    "train_tII_errors = table_train.loc[1.0,0.0] / table_train.loc['All','All']\n",
    "\n",
    "test_tI_errors = table_test.loc[0.0,1.0]/table_test.loc['All','All']\n",
    "test_tII_errors = table_test.loc[1.0,0.0]/table_test.loc['All','All']\n",
    "\n",
    "print((\n",
    "    'Training set accuracy:\\n'\n",
    "    'Percent Type I errors: {}\\n'\n",
    "    'Percent Type II errors: {}\\n\\n'\n",
    "    'Test set accuracy:\\n'\n",
    "    'Percent Type I errors: {}\\n'\n",
    "    'Percent Type II errors: {}'\n",
    ").format(train_tI_errors, train_tII_errors, test_tI_errors, test_tII_errors))\n"
   ]
  },
  {
   "cell_type": "markdown",
   "metadata": {},
   "source": [
    "Unlike decision trees, gradient boost solutions are not terribly easy to interpret on the surface.  But they aren't quite a black box.  We can get a measure of how important various features are by counting how many times a feature is used over the course of many decision trees."
   ]
  },
  {
   "cell_type": "code",
   "execution_count": 4,
   "metadata": {},
   "outputs": [
    {
     "data": {
      "image/png": "[encoded data removed]",
      "text/plain": [
       "<Figure size 432x288 with 1 Axes>"
      ]
     },
     "metadata": {
      "needs_background": "light"
     },
     "output_type": "display_data"
    }
   ],
   "source": [
    "feature_importance = clf.feature_importances_\n",
    "\n",
    "# Make importances relative to max importance.\n",
    "feature_importance = 100.0 * (feature_importance / feature_importance.max())\n",
    "sorted_idx = np.argsort(feature_importance)\n",
    "pos = np.arange(sorted_idx.shape[0]) + .5\n",
    "plt.subplot(1, 2, 2)\n",
    "plt.barh(pos, feature_importance[sorted_idx], align='center')\n",
    "plt.yticks(pos, X.columns[sorted_idx])\n",
    "plt.xlabel('Relative Importance')\n",
    "plt.title('Variable Importance')\n",
    "plt.show()"
   ]
  },
  {
   "cell_type": "markdown",
   "metadata": {},
   "source": [
    "It appears that age and happiness are the most important features in predicting whether or not someone lives with a partner."
   ]
  },
  {
   "cell_type": "markdown",
   "metadata": {
    "collapsed": true
   },
   "source": [
    "### DRILL: Improve this gradient boost model\n",
    "\n",
    "While this model is already doing alright, we've seen from the Type I and Type II error rates that there is definitely room for improvement.  Your task is to see how low you can get the error rates to go in the test set, based on your model in the training set.  Strategies you might use include:\n",
    "\n",
    "* Creating new features\n",
    "* Applying more overfitting-prevention strategies like subsampling\n",
    "* More iterations\n",
    "* Trying a different loss function\n",
    "* Changing the structure of the weak learner: Allowing more leaves in the tree, or other modifications\n",
    "\n",
    "Have fun!"
   ]
  },
  {
   "cell_type": "markdown",
   "metadata": {},
   "source": [
    "### Tune hyperparameters using AUC to measure model performance"
   ]
  },
  {
   "cell_type": "code",
   "execution_count": 5,
   "metadata": {},
   "outputs": [],
   "source": [
    "from sklearn.metrics import roc_curve, auc"
   ]
  },
  {
   "cell_type": "markdown",
   "metadata": {},
   "source": [
    "# Tune n_estimators"
   ]
  },
  {
   "cell_type": "code",
   "execution_count": 6,
   "metadata": {},
   "outputs": [
    {
     "data": {
      "image/png": "[encoded data removed]",
      "text/plain": [
       "<Figure size 432x288 with 1 Axes>"
      ]
     },
     "metadata": {
      "needs_background": "light"
     },
     "output_type": "display_data"
    }
   ],
   "source": [
    "estimators = [100,300,600,1000,1500]\n",
    "\n",
    "train_results = []\n",
    "test_results = []\n",
    "\n",
    "for n in estimators:\n",
    "\n",
    "    #Set params\n",
    "    \n",
    "    params = {'n_estimators': n,\n",
    "              'max_depth': 2,\n",
    "              'loss': 'deviance'}\n",
    "\n",
    "    # Initialize and fit the model.\n",
    "    \n",
    "    clf = ensemble.GradientBoostingClassifier(**params)\n",
    "    clf.fit(X_train, y_train)\n",
    "\n",
    "    # Get predictions from train data, compute auc score, append to train_results\n",
    "    \n",
    "    train_pred = clf.predict(X_train)    \n",
    "    false_pos_rate, true_pos_rate, thresholds = roc_curve(y_train, train_pred)\n",
    "    train_auc = auc(false_pos_rate, true_pos_rate)\n",
    "    train_results.append(train_auc)\n",
    "    \n",
    "    # Get predictions from train data, compute auc score, append to train_results\n",
    "    \n",
    "    test_pred = clf.predict(X_test)    \n",
    "    false_pos_rate, true_pos_rate, thresholds = roc_curve(y_test, test_pred)\n",
    "    test_auc = auc(false_pos_rate, true_pos_rate)   \n",
    "    test_results.append(test_auc)\n",
    "    \n",
    "plt.plot(estimators, train_results, 'b', label='Train')\n",
    "plt.plot(estimators, test_results, 'r', label='Test')\n",
    "plt.legend(('Train', 'Test'))\n",
    "plt.title('AUC Scores across n_estimators')\n",
    "plt.show()"
   ]
  },
  {
   "cell_type": "markdown",
   "metadata": {},
   "source": [
    "The model performed best at 300-600 estimators in the test set, to reduce the computation time let's set n_estimators at 300."
   ]
  },
  {
   "cell_type": "markdown",
   "metadata": {},
   "source": [
    "# Tune max_depth"
   ]
  },
  {
   "cell_type": "code",
   "execution_count": 7,
   "metadata": {},
   "outputs": [
    {
     "data": {
      "image/png": "[encoded data removed]",
      "text/plain": [
       "<Figure size 432x288 with 1 Axes>"
      ]
     },
     "metadata": {
      "needs_background": "light"
     },
     "output_type": "display_data"
    }
   ],
   "source": [
    "depths = [1,2,3,5,8,13]\n",
    "\n",
    "train_results = []\n",
    "test_results = []\n",
    "\n",
    "for depth in depths:\n",
    "\n",
    "    #Set params\n",
    "    \n",
    "    params = {'n_estimators': 300,\n",
    "              'max_depth': depth,\n",
    "              'loss': 'deviance'}\n",
    "\n",
    "    # Initialize and fit the model.\n",
    "    \n",
    "    clf = ensemble.GradientBoostingClassifier(**params)\n",
    "    clf.fit(X_train, y_train)\n",
    "\n",
    "    # Get predictions from train data, compute auc score, append to train_results\n",
    "    \n",
    "    train_pred = clf.predict(X_train)    \n",
    "    false_pos_rate, true_pos_rate, thresholds = roc_curve(y_train, train_pred)\n",
    "    train_auc = auc(false_pos_rate, true_pos_rate)\n",
    "    train_results.append(train_auc)\n",
    "    \n",
    "    # Get predictions from train data, compute auc score, append to train_results\n",
    "    \n",
    "    test_pred = clf.predict(X_test)    \n",
    "    false_pos_rate, true_pos_rate, thresholds = roc_curve(y_test, test_pred)\n",
    "    test_auc = auc(false_pos_rate, true_pos_rate)   \n",
    "    test_results.append(test_auc)\n",
    "    \n",
    "plt.plot(depths, train_results, 'b', label='Train')\n",
    "plt.plot(depths, test_results, 'r', label='Test')\n",
    "plt.legend(('Train', 'Test'))\n",
    "plt.title('AUC Scores across Tree Depths')\n",
    "plt.show()"
   ]
  },
  {
   "cell_type": "markdown",
   "metadata": {},
   "source": [
    "We will keep the max_depth set to 2."
   ]
  },
  {
   "cell_type": "markdown",
   "metadata": {},
   "source": [
    "# Tune learning_rate"
   ]
  },
  {
   "cell_type": "code",
   "execution_count": 8,
   "metadata": {
    "scrolled": true
   },
   "outputs": [
    {
     "data": {
      "image/png": "[encoded data removed]",
      "text/plain": [
       "<Figure size 432x288 with 1 Axes>"
      ]
     },
     "metadata": {
      "needs_background": "light"
     },
     "output_type": "display_data"
    }
   ],
   "source": [
    "learning_rates = [1, 0.5, 0.25, 0.1, 0.05, 0.01]\n",
    "\n",
    "train_results = []\n",
    "test_results = []\n",
    "\n",
    "for learning_rate in learning_rates:\n",
    "\n",
    "    #Set params\n",
    "    \n",
    "    params = {'n_estimators': 300,\n",
    "              'max_depth': 2,\n",
    "              'loss': 'deviance',\n",
    "             'learning_rate':learning_rate}\n",
    "\n",
    "    # Initialize and fit the model.\n",
    "    \n",
    "    clf = ensemble.GradientBoostingClassifier(**params)\n",
    "    clf.fit(X_train, y_train)\n",
    "\n",
    "    # Get predictions from train data, compute auc score, append to train_results\n",
    "    \n",
    "    train_pred = clf.predict(X_train)    \n",
    "    false_pos_rate, true_pos_rate, thresholds = roc_curve(y_train, train_pred)\n",
    "    train_auc = auc(false_pos_rate, true_pos_rate)\n",
    "    train_results.append(train_auc)\n",
    "    \n",
    "    # Get predictions from train data, compute auc score, append to train_results\n",
    "    \n",
    "    test_pred = clf.predict(X_test)    \n",
    "    false_pos_rate, true_pos_rate, thresholds = roc_curve(y_test, test_pred)\n",
    "    test_auc = auc(false_pos_rate, true_pos_rate)   \n",
    "    test_results.append(test_auc)\n",
    "    \n",
    "plt.plot(learning_rates, train_results, 'b', label='Train')\n",
    "plt.plot(learning_rates, test_results, 'r', label='Test')\n",
    "plt.legend(('Train', 'Test'))\n",
    "plt.title('AUC Scores across Learning Rates')\n",
    "plt.show()"
   ]
  },
  {
   "cell_type": "markdown",
   "metadata": {},
   "source": [
    "It looks like the default value of 0.1 was the best learning rate for the model."
   ]
  },
  {
   "cell_type": "markdown",
   "metadata": {},
   "source": [
    "# Tune min_samples_split"
   ]
  },
  {
   "cell_type": "code",
   "execution_count": 9,
   "metadata": {},
   "outputs": [
    {
     "data": {
      "image/png": "[encoded data removed]",
      "text/plain": [
       "<Figure size 432x288 with 1 Axes>"
      ]
     },
     "metadata": {
      "needs_background": "light"
     },
     "output_type": "display_data"
    }
   ],
   "source": [
    "min_samples_splits = np.linspace(0.1, 1.0, 10, endpoint=True)\n",
    "\n",
    "train_results = []\n",
    "test_results = []\n",
    "\n",
    "for split in min_samples_splits:\n",
    "\n",
    "    #Set params\n",
    "    \n",
    "    params = {'n_estimators': 300,\n",
    "              'max_depth': 2,\n",
    "              'loss': 'deviance',\n",
    "             'min_samples_split': split}\n",
    "\n",
    "    # Initialize and fit the model.\n",
    "    \n",
    "    clf = ensemble.GradientBoostingClassifier(**params)\n",
    "    clf.fit(X_train, y_train)\n",
    "\n",
    "    # Get predictions from train data, compute auc score, append to train_results\n",
    "    \n",
    "    train_pred = clf.predict(X_train)    \n",
    "    false_pos_rate, true_pos_rate, thresholds = roc_curve(y_train, train_pred)\n",
    "    train_auc = auc(false_pos_rate, true_pos_rate)\n",
    "    train_results.append(train_auc)\n",
    "    \n",
    "    # Get predictions from train data, compute auc score, append to train_results\n",
    "    \n",
    "    test_pred = clf.predict(X_test)    \n",
    "    false_pos_rate, true_pos_rate, thresholds = roc_curve(y_test, test_pred)\n",
    "    test_auc = auc(false_pos_rate, true_pos_rate)   \n",
    "    test_results.append(test_auc)\n",
    "    \n",
    "plt.plot(min_samples_splits, train_results, 'b', label='Train')\n",
    "plt.plot(min_samples_splits, test_results, 'r', label='Test')\n",
    "plt.legend(('Train', 'Test'))\n",
    "plt.title('AUC Scores across min_samples_split')\n",
    "plt.show()"
   ]
  },
  {
   "cell_type": "markdown",
   "metadata": {},
   "source": [
    "Our model performed best at a sample of 90% (0.9) for the min_samples_split paramater, the default for this value is 100% (1)"
   ]
  },
  {
   "cell_type": "code",
   "execution_count": 10,
   "metadata": {},
   "outputs": [
    {
     "data": {
      "image/png": "[encoded data removed]",
      "text/plain": [
       "<Figure size 432x288 with 1 Axes>"
      ]
     },
     "metadata": {
      "needs_background": "light"
     },
     "output_type": "display_data"
    }
   ],
   "source": [
    "max_features = list(range(1,X_train.shape[1]))\n",
    "\n",
    "train_results = []\n",
    "test_results = []\n",
    "\n",
    "for n in max_features:\n",
    "\n",
    "    #Set params\n",
    "    \n",
    "    params = {'n_estimators': 300,\n",
    "              'max_depth': 2,\n",
    "              'loss': 'deviance',\n",
    "             'min_samples_split': 0.9,\n",
    "             'max_features': n}\n",
    "\n",
    "    # Initialize and fit the model.\n",
    "    \n",
    "    clf = ensemble.GradientBoostingClassifier(**params)\n",
    "    clf.fit(X_train, y_train)\n",
    "\n",
    "    # Get predictions from train data, compute auc score, append to train_results\n",
    "    \n",
    "    train_pred = clf.predict(X_train)    \n",
    "    false_pos_rate, true_pos_rate, thresholds = roc_curve(y_train, train_pred)\n",
    "    train_auc = auc(false_pos_rate, true_pos_rate)\n",
    "    train_results.append(train_auc)\n",
    "    \n",
    "    # Get predictions from train data, compute auc score, append to train_results\n",
    "    \n",
    "    test_pred = clf.predict(X_test)    \n",
    "    false_pos_rate, true_pos_rate, thresholds = roc_curve(y_test, test_pred)\n",
    "    test_auc = auc(false_pos_rate, true_pos_rate)   \n",
    "    test_results.append(test_auc)\n",
    "    \n",
    "plt.plot(max_features, train_results, 'b', label='Train')\n",
    "plt.plot(max_features, test_results, 'r', label='Test')\n",
    "plt.legend(('Train', 'Test'))\n",
    "plt.title('AUC Scores across max_features')\n",
    "plt.show()"
   ]
  },
  {
   "cell_type": "markdown",
   "metadata": {},
   "source": [
    "Our model performs best with a max of 14 features considered at each split. Let's put our tuned model to the test against the original model."
   ]
  },
  {
   "cell_type": "code",
   "execution_count": 18,
   "metadata": {},
   "outputs": [
    {
     "name": "stdout",
     "output_type": "stream",
     "text": [
      "Training set accuracy:\n",
      "Percent Type I errors: 0.0463720676486634\n",
      "Percent Type II errors: 0.19899072558647027\n",
      "\n",
      "Test set accuracy:\n",
      "Percent Type I errors: 0.04171779141104295\n",
      "Percent Type II errors: 0.18773006134969325\n"
     ]
    }
   ],
   "source": [
    "# We'll make 300 iterations, use 2-deep trees, and set our min_samples_split to 0.9, and max_features to 14\n",
    "\n",
    "params = {'n_estimators': 300,\n",
    "          'max_depth': 2,\n",
    "          'loss': 'deviance',\n",
    "         'min_samples_split': 0.9,\n",
    "         'max_features': 14}\n",
    "\n",
    "# Initialize and fit the model.\n",
    "clf = ensemble.GradientBoostingClassifier(**params)\n",
    "clf.fit(X_train, y_train)\n",
    "\n",
    "predict_train = clf.predict(X_train)\n",
    "predict_test = clf.predict(X_test)\n",
    "\n",
    "# Accuracy tables.\n",
    "table_train = pd.crosstab(y_train, predict_train, margins=True)\n",
    "table_test = pd.crosstab(y_test, predict_test, margins=True)\n",
    "\n",
    "train_tI_errors = table_train.loc[0.0,1.0] / table_train.loc['All','All']\n",
    "train_tII_errors = table_train.loc[1.0,0.0] / table_train.loc['All','All']\n",
    "\n",
    "test_tI_errors = table_test.loc[0.0,1.0]/table_test.loc['All','All']\n",
    "test_tII_errors = table_test.loc[1.0,0.0]/table_test.loc['All','All']\n",
    "\n",
    "print((\n",
    "    'Training set accuracy:\\n'\n",
    "    'Percent Type I errors: {}\\n'\n",
    "    'Percent Type II errors: {}\\n\\n'\n",
    "    'Test set accuracy:\\n'\n",
    "    'Percent Type I errors: {}\\n'\n",
    "    'Percent Type II errors: {}'\n",
    ").format(train_tI_errors, train_tII_errors, test_tI_errors, test_tII_errors))"
   ]
  },
  {
   "cell_type": "markdown",
   "metadata": {},
   "source": [
    "While we were able to slightly reduce our Type I percentage, we increased our Type II error percentages for both the training and test sets. On a positive note, the model shows no signs of overfitting. These findings suggest that an additional feature is needed by the model to reduce the Type II errors (false negatives) as there are some characteristics in these false negatives that is not being identified by the current features."
   ]
  },
  {
   "cell_type": "markdown",
   "metadata": {},
   "source": [
    "# Create interactions by gender"
   ]
  },
  {
   "cell_type": "code",
   "execution_count": 67,
   "metadata": {},
   "outputs": [],
   "source": [
    "# Create features that may have interactions with gender\n",
    "\n",
    "var_list = ['tvtot', 'ppltrst', 'pplfair', 'pplhlp', 'happy', 'sclmeet', 'sclact']\n",
    "\n",
    "for var in var_list:\n",
    "    varname = str(var + '_by_gender')\n",
    "    df[varname] = df[var] * (df['gndr']-1)\n",
    "    \n",
    "# Definine outcome and predictors.\n",
    "# Set our outcome to 0 and 1.\n",
    "y = df['partner'] - 1\n",
    "X = df.loc[:, ~df.columns.isin(['partner', 'cntry', 'idno'])]\n",
    "\n",
    "# Make the categorical variable 'country' into dummies.\n",
    "X = pd.concat([X, pd.get_dummies(df['cntry'])], axis=1)\n",
    "\n",
    "# Create training and test sets, split at 90%\n",
    "X_train, X_test, y_train, y_test = train_test_split(X,y,test_size = 0.1, random_state = 1)"
   ]
  },
  {
   "cell_type": "code",
   "execution_count": 68,
   "metadata": {},
   "outputs": [
    {
     "name": "stdout",
     "output_type": "stream",
     "text": [
      "Training set accuracy:\n",
      "Percent Type I errors: 0.04650845608292417\n",
      "Percent Type II errors: 0.19858156028368795\n",
      "\n",
      "Test set accuracy:\n",
      "Percent Type I errors: 0.044171779141104296\n",
      "Percent Type II errors: 0.18773006134969325\n"
     ]
    }
   ],
   "source": [
    "# We'll make 300 iterations, use 2-deep trees, and set our min_samples_split to 0.9, and max_features to 14\n",
    "\n",
    "params = {'n_estimators': 300,\n",
    "          'max_depth': 2,\n",
    "          'loss': 'deviance',\n",
    "         'min_samples_split': 0.9,\n",
    "         'max_features': 14}\n",
    "\n",
    "# Initialize and fit the model.\n",
    "clf = ensemble.GradientBoostingClassifier(**params)\n",
    "clf.fit(X_train, y_train)\n",
    "\n",
    "predict_train = clf.predict(X_train)\n",
    "predict_test = clf.predict(X_test)\n",
    "\n",
    "# Accuracy tables.\n",
    "table_train = pd.crosstab(y_train, predict_train, margins=True)\n",
    "table_test = pd.crosstab(y_test, predict_test, margins=True)\n",
    "\n",
    "train_tI_errors = table_train.loc[0.0,1.0] / table_train.loc['All','All']\n",
    "train_tII_errors = table_train.loc[1.0,0.0] / table_train.loc['All','All']\n",
    "\n",
    "test_tI_errors = table_test.loc[0.0,1.0]/table_test.loc['All','All']\n",
    "test_tII_errors = table_test.loc[1.0,0.0]/table_test.loc['All','All']\n",
    "\n",
    "print((\n",
    "    'Training set accuracy:\\n'\n",
    "    'Percent Type I errors: {}\\n'\n",
    "    'Percent Type II errors: {}\\n\\n'\n",
    "    'Test set accuracy:\\n'\n",
    "    'Percent Type I errors: {}\\n'\n",
    "    'Percent Type II errors: {}'\n",
    ").format(train_tI_errors, train_tII_errors, test_tI_errors, test_tII_errors))"
   ]
  },
  {
   "cell_type": "markdown",
   "metadata": {},
   "source": [
    "## Conclusion"
   ]
  },
  {
   "cell_type": "markdown",
   "metadata": {},
   "source": [
    "Once again, we continued to demonstrate a low Type I error. However, the Type II error continues to be mostly unchanged. This continues to show that our model does a good job of avoiding false positives, but it is failing to identify about 19% of the partners in the data. A feature needs to be added to the model which allows it to identify those 19% that are being missed."
   ]
  }
 ],
 "metadata": {
  "hide_input": false,
  "kernelspec": {
   "display_name": "Python 3",
   "language": "python",
   "name": "python3"
  },
  "language_info": {
   "codemirror_mode": {
    "name": "ipython",
    "version": 3
   },
   "file_extension": ".py",
   "mimetype": "text/x-python",
   "name": "python",
   "nbconvert_exporter": "python",
   "pygments_lexer": "ipython3",
   "version": "3.6.8"
  },
  "toc": {
   "colors": {
    "hover_highlight": "#DAA520",
    "running_highlight": "#FF0000",
    "selected_highlight": "#FFD700"
   },
   "moveMenuLeft": true,
   "nav_menu": {
    "height": "59px",
    "width": "252px"
   },
   "navigate_menu": true,
   "number_sections": true,
   "sideBar": true,
   "threshold": 4,
   "toc_cell": false,
   "toc_section_display": "block",
   "toc_window_display": false
  }
 },
 "nbformat": 4,
 "nbformat_minor": 2
}
